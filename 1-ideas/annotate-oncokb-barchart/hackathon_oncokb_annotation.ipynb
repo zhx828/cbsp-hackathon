{
 "cells": [
  {
   "cell_type": "markdown",
   "metadata": {},
   "source": [
    "## Annotate `'metastatic_solid_tumors_mich_2017'` study's mutation endpoints from cBioPortal using OncoKB REST API.\n",
    "\n",
    "First import `bravado` and `pandas`.\n",
    "\n",
    "Initialize REST APIs for cBioPortal and OncoKB."
   ]
  },
  {
   "cell_type": "code",
   "execution_count": null,
   "metadata": {},
   "outputs": [],
   "source": [
    "from bravado.client import SwaggerClient\n",
    "from bravado.requests_client import RequestsClient\n",
    "from bravado.swagger_model import load_file, Loader\n",
    "\n",
    "from pprint import pprint\n",
    "from copy import *\n",
    "\n",
    "import matplotlib\n",
    "import pandas\n",
    "\n",
    "%matplotlib inline\n",
    "\n",
    "plot_w, plot_h = matplotlib.rcParams['figure.figsize']\n",
    "\n",
    "cbioportal = SwaggerClient.from_url('https://www.cbioportal.org/api/api-docs',\n",
    "                                config={\"validate_requests\":False,\"validate_responses\":False})\n",
    "\n",
    "# OncoKB swagger is generated separately from the main website, we need to manually change the host to www.oncokb.org \n",
    "oncokb_swagger_url='https://www.oncokb.org/api/v1/v2/api-docs?group=Public%20APIs'\n",
    "http_client = RequestsClient()\n",
    "loader = Loader(http_client)\n",
    "spec_dict = loader.load_spec('https://www.oncokb.org/api/v1/v2/api-docs?group=Public%20APIs')\n",
    "spec_dict['host'] = 'www.oncokb.org'\n",
    "oncokb = SwaggerClient.from_spec(spec_dict,\n",
    "                                config={\"validate_requests\":False,\"validate_responses\":False})"
   ]
  },
  {
   "cell_type": "markdown",
   "metadata": {},
   "source": [
    "### Define method to run oncokb annotation in POST.\n",
    "#### Please ask for the oncokb token if you don't have an account and update `oncokb_token` below"
   ]
  },
  {
   "cell_type": "code",
   "execution_count": null,
   "metadata": {},
   "outputs": [],
   "source": [
    "def make_oncokb_post_request(requests):\n",
    "    oncokb_token=''\n",
    "    oncokb_request_headers = {\n",
    "      'Authorization': 'Bearer {}'.format(oncokb_token)\n",
    "    }\n",
    "\n",
    "    request_options = {\n",
    "        # === bravado config ===\n",
    "        'headers': oncokb_request_headers,\n",
    "    }\n",
    "    return json.loads(oncokb.Annotations.annotateMutationsByProteinChangePostUsingPOST_1(\n",
    "            _request_options=request_options,\n",
    "            body=requests\n",
    "        ).response().result)"
   ]
  },
  {
   "cell_type": "markdown",
   "metadata": {},
   "source": [
    "Define method to process mutations and get annotated"
   ]
  },
  {
   "cell_type": "code",
   "execution_count": null,
   "metadata": {},
   "outputs": [],
   "source": [
    "POST_LENGTH_THRESHOLD=1000\n",
    "def annotate_mutations(mutations):\n",
    "    msk_mutation_annotations = []\n",
    "    requests = []\n",
    "    sub_mutations = []\n",
    "    for idx, m in enumerate(mutations):\n",
    "        QueryGene = oncokb.get_model('QueryGene')\n",
    "        AnnotateMutationByProteinChangeQuery = oncokb.get_model('AnnotateMutationByProteinChangeQuery')\n",
    "        requests.append(\n",
    "            AnnotateMutationByProteinChangeQuery(gene=QueryGene(entrezGeneId=m.entrezGeneId), alteration=m.proteinChange))\n",
    "        sub_mutations.append(m)\n",
    "        if len(requests) == POST_LENGTH_THRESHOLD:\n",
    "            resp = make_oncokb_post_request(requests)\n",
    "            msk_mutation_annotations.extend(zip(sub_mutations, resp))\n",
    "            print('Annotated {}/{} mutations'.format(idx+1, len(mutations)))\n",
    "            requests = []\n",
    "            sub_mutations = []\n",
    "    if (len(requests) > 0):\n",
    "        resp = make_oncokb_post_request(requests)\n",
    "        msk_mutation_annotations.extend(zip(sub_mutations, resp))\n",
    "        requests = []\n",
    "        sub_mutations = []\n",
    "    return msk_mutation_annotations"
   ]
  },
  {
   "cell_type": "markdown",
   "metadata": {},
   "source": [
    "Retrieve all available clinical data in `'metastatic_solid_tumors_mich_2017'` study:"
   ]
  },
  {
   "cell_type": "code",
   "execution_count": null,
   "metadata": {},
   "outputs": [],
   "source": [
    "msk_clinical_data=cbioportal.Clinical_Data.getAllClinicalDataInStudyUsingGET(studyId='metastatic_solid_tumors_mich_2017').result()"
   ]
  },
  {
   "cell_type": "markdown",
   "metadata": {},
   "source": [
    "The clinical data returned from `getAllClinicalDataInStudyUsingGET()` can be inserted into a DataFrame."
   ]
  },
  {
   "cell_type": "code",
   "execution_count": null,
   "metadata": {
    "scrolled": true
   },
   "outputs": [],
   "source": [
    "%%time\n",
    "\n",
    "parsed_clinical_data = dict()\n",
    "for cd in msk_clinical_data:\n",
    "    if cd.uniqueSampleKey not in parsed_clinical_data:\n",
    "        parsed_clinical_data[cd.uniqueSampleKey] = dict()\n",
    "        parsed_clinical_data[cd.uniqueSampleKey]['uniqueSampleKey'] = cd.uniqueSampleKey\n",
    "        parsed_clinical_data[cd.uniqueSampleKey][cd.clinicalAttributeId] = cd.value\n",
    "        parsed_clinical_data[cd.uniqueSampleKey]['patientId'] = cd.patientId\n",
    "        parsed_clinical_data[cd.uniqueSampleKey]['sampleId'] = cd.sampleId\n",
    "        parsed_clinical_data[cd.uniqueSampleKey]['studyId'] = cd.studyId\n",
    "        parsed_clinical_data[cd.uniqueSampleKey]['uniquePatientKey'] = cd.uniquePatientKey\n",
    "    else:\n",
    "        parsed_clinical_data[cd.uniqueSampleKey][cd.clinicalAttributeId] = cd.value\n",
    "\n",
    "cd_df = pandas.DataFrame.from_dict([cd[1] for cd in parsed_clinical_data.items()])"
   ]
  },
  {
   "cell_type": "code",
   "execution_count": null,
   "metadata": {},
   "outputs": [],
   "source": [
    "print(\"number of clinical data endpoints:\", len(parsed_clinical_data))"
   ]
  },
  {
   "cell_type": "markdown",
   "metadata": {},
   "source": [
    "Here, the study samples can be categorized under `'CANCER_TYPE'`."
   ]
  },
  {
   "cell_type": "code",
   "execution_count": null,
   "metadata": {},
   "outputs": [],
   "source": [
    "msk_clinical_data_sorted_cancer_type = cd_df.groupby('CANCER_TYPE')['uniqueSampleKey'].nunique().sort_values(ascending=False)"
   ]
  },
  {
   "cell_type": "markdown",
   "metadata": {},
   "source": [
    "Here is a plot of the studies' samples sorted by `'CANCER_TYPE'`:"
   ]
  },
  {
   "cell_type": "code",
   "execution_count": null,
   "metadata": {
    "scrolled": false
   },
   "outputs": [],
   "source": [
    "msk_clinical_data_sorted_cancer_type.plot(kind='bar', figsize=(2*plot_w, plot_h))"
   ]
  },
  {
   "cell_type": "markdown",
   "metadata": {},
   "source": [
    "Obtain mutations for `'metastatic_solid_tumors_mich_2017'`:"
   ]
  },
  {
   "cell_type": "code",
   "execution_count": null,
   "metadata": {},
   "outputs": [],
   "source": [
    "%%time\n",
    "\n",
    "mutations = cbioportal.Mutations.getMutationsInMolecularProfileBySampleListIdUsingGET(\n",
    "    molecularProfileId='metastatic_solid_tumors_mich_2017_mutations',\n",
    "    sampleListId='metastatic_solid_tumors_mich_2017_all',\n",
    "    projection='DETAILED'\n",
    ").result()"
   ]
  },
  {
   "cell_type": "markdown",
   "metadata": {},
   "source": [
    "Combine `'metastatic_solid_tumors_mich_2017'` clinical data endpoints with `'metastatic_solid_tumors_mich_2017'` mutations endpoints."
   ]
  },
  {
   "cell_type": "markdown",
   "metadata": {},
   "source": [
    "Obtain the set of mutation entrez gene IDs (this makes it easier to count the total number of `entrezGeneId`s):"
   ]
  },
  {
   "cell_type": "code",
   "execution_count": null,
   "metadata": {},
   "outputs": [],
   "source": [
    "mutations_entrezGeneId = set()\n",
    "for m in mutations:\n",
    "    mutations_entrezGeneId.add(m.entrezGeneId)\n",
    "\n",
    "print(\"There are {0} `'metastatic_solid_tumors_mich_2017'` mutation entrez gene IDs!\".format(len(mutations_entrezGeneId)))"
   ]
  },
  {
   "cell_type": "markdown",
   "metadata": {},
   "source": [
    "Use gene mutation ID and proteinChange to filter OncoKB's Annotations:"
   ]
  },
  {
   "cell_type": "code",
   "execution_count": null,
   "metadata": {
    "scrolled": true
   },
   "outputs": [],
   "source": [
    "msk_cd_with_mutations = deepcopy(parsed_clinical_data)\n",
    "for m in mutations:\n",
    "    if 'mutations' not in msk_cd_with_mutations[m.uniqueSampleKey]:\n",
    "        msk_cd_with_mutations[m.uniqueSampleKey]['mutations'] = []\n",
    "    msk_cd_with_mutations[m.uniqueSampleKey]['mutations'].append(m)\n",
    "\n",
    "print(\"There are {0} `'metastatic_solid_tumors_mich_2017'` study samples without mutations.\\n\".format(len([kv[1] for kv in msk_cd_with_mutations.items() if ('mutations' not in kv[1])])))\n",
    "print(\"Total number of mutations in `'metastatic_solid_tumors_mich_2017'` study:\", len(mutations))"
   ]
  },
  {
   "cell_type": "markdown",
   "metadata": {},
   "source": [
    "## Requesting annotations for all `'metastatic_solid_tumors_mich_2017'` study mutations (might take ~5 minutes)!"
   ]
  },
  {
   "cell_type": "code",
   "execution_count": null,
   "metadata": {
    "scrolled": true
   },
   "outputs": [],
   "source": [
    "%%time\n",
    "\n",
    "import json\n",
    "\n",
    "msk_mutation_annotations = annotate_mutations(mutations)\n",
    "\n",
    "assert len(msk_mutation_annotations) == len(mutations), \"some annotation requests failed\""
   ]
  },
  {
   "cell_type": "code",
   "execution_count": null,
   "metadata": {},
   "outputs": [],
   "source": [
    "msk_mutation_annotations[0]"
   ]
  },
  {
   "cell_type": "code",
   "execution_count": null,
   "metadata": {
    "scrolled": false
   },
   "outputs": [],
   "source": [
    "msk_annotated_mutation_cancer_types = [\n",
    "    {**m[0]._Model__dict,\n",
    "    **m[1],\n",
    "    **{'CANCER_TYPE': parsed_clinical_data[m[0].uniqueSampleKey]['CANCER_TYPE']}}\n",
    "    for m in msk_mutation_annotations]"
   ]
  },
  {
   "cell_type": "markdown",
   "metadata": {},
   "source": [
    "Filter `'metastatic_solid_tumors_mich_2017'` study mutations by `'LEVEL_1'`:"
   ]
  },
  {
   "cell_type": "code",
   "execution_count": null,
   "metadata": {},
   "outputs": [],
   "source": [
    "msk_annotated_mutation_cancer_types[0]"
   ]
  },
  {
   "cell_type": "code",
   "execution_count": null,
   "metadata": {
    "scrolled": false
   },
   "outputs": [],
   "source": [
    "msk_annotated_mutation_cancer_types_level_1 = [am for am in msk_annotated_mutation_cancer_types if am['highestSensitiveLevel'] == 'LEVEL_1']\n",
    "annotations_level_1_df = pandas.DataFrame.from_dict(msk_annotated_mutation_cancer_types_level_1)\n",
    "annotations_level_1_df.groupby('CANCER_TYPE')['uniqueSampleKey'].nunique().sort_values(ascending=False).plot(kind='bar', figsize=(2*plot_w, plot_h), color='#33A02C').set_title('LEVEL_1', fontsize=14)"
   ]
  },
  {
   "cell_type": "markdown",
   "metadata": {},
   "source": [
    "Filter `'metastatic_solid_tumors_mich_2017'` study mutations by `'LEVEL_2'`:"
   ]
  },
  {
   "cell_type": "code",
   "execution_count": null,
   "metadata": {},
   "outputs": [],
   "source": [
    "msk_annotated_mutation_cancer_types_level_2 = [am for am in msk_annotated_mutation_cancer_types if am['highestSensitiveLevel'] == 'LEVEL_2']\n",
    "\n",
    "annotations_level_2_df = pandas.DataFrame.from_dict(msk_annotated_mutation_cancer_types_level_2)\n",
    "if not annotations_level_2_df.empty:\n",
    "    annotations_level_2_df.groupby('CANCER_TYPE')['uniqueSampleKey'].nunique().sort_values(ascending=False).plot(kind='bar', figsize=(2*plot_w, plot_h), color='#1F78B4').set_title('LEVEL_2', fontsize=14)\n"
   ]
  },
  {
   "cell_type": "markdown",
   "metadata": {},
   "source": [
    "Filter `'metastatic_solid_tumors_mich_2017'` study mutations by `'VUS'`:"
   ]
  },
  {
   "cell_type": "code",
   "execution_count": null,
   "metadata": {},
   "outputs": [],
   "source": [
    "msk_annotated_mutation_cancer_types_vus = [am for am in msk_annotated_mutation_cancer_types if ((not (am['vus'] is None)) and am['vus'])]\n",
    "\n",
    "annotations_vus_df = pandas.DataFrame.from_dict(msk_annotated_mutation_cancer_types_vus)\n",
    "if not annotations_vus_df.empty:\n",
    "    annotations_vus_df.groupby('CANCER_TYPE')['uniqueSampleKey'].nunique().sort_values(ascending=False).plot(kind='bar', figsize=(2*plot_w, plot_h), color='#d1d1d1').set_title('VUS', fontsize=14)\n"
   ]
  },
  {
   "cell_type": "markdown",
   "metadata": {},
   "source": [
    "## Requesting annotations for only `'Non-Small Cell Lung Cancer'` mutations in `'metastatic_solid_tumors_mich_2017'`."
   ]
  },
  {
   "cell_type": "code",
   "execution_count": null,
   "metadata": {},
   "outputs": [],
   "source": [
    "msk_clinical_data_nsclc = [kv[1] for kv in msk_cd_with_mutations.items() if (kv[1]['CANCER_TYPE'] == 'Non-Small Cell Lung Cancer')]\n",
    "msk_clinical_data_nsclc_set = set()\n",
    "for cd_nsclc in msk_clinical_data_nsclc:\n",
    "    if 'mutations' in cd_nsclc:\n",
    "        for m in cd_nsclc['mutations']:\n",
    "            msk_clinical_data_nsclc_set.add((m.entrezGeneId, m.proteinChange))\n",
    "print(\"Total number of `'Non-Small Cell Lung Cancer'` mutations in `'metastatic_solid_tumors_mich_2017'` study:\", len(msk_clinical_data_nsclc_set))"
   ]
  },
  {
   "cell_type": "code",
   "execution_count": null,
   "metadata": {},
   "outputs": [],
   "source": [
    "msk_clinical_data_nsclc[0]"
   ]
  },
  {
   "cell_type": "code",
   "execution_count": null,
   "metadata": {},
   "outputs": [],
   "source": [
    "\n",
    "msk_clinical_data_nsclc_dict = []\n",
    "for set_item in msk_clinical_data_nsclc_set:\n",
    "    Mutation = cbioportal.get_model('Mutation')\n",
    "    msk_clinical_data_nsclc_dict.append(Mutation(entrezGeneId=set_item[0], proteinChange=set_item[1]))"
   ]
  },
  {
   "cell_type": "markdown",
   "metadata": {},
   "source": [
    "The requests may take ~1 minute."
   ]
  },
  {
   "cell_type": "code",
   "execution_count": null,
   "metadata": {
    "scrolled": true
   },
   "outputs": [],
   "source": [
    "%%time\n",
    "\n",
    "msk_clinical_data_nsclc_annotations = annotate_mutations(msk_clinical_data_nsclc_dict)\n"
   ]
  },
  {
   "cell_type": "code",
   "execution_count": null,
   "metadata": {
    "scrolled": true
   },
   "outputs": [],
   "source": [
    "msk_clinical_data_nsclc_annotations[0]"
   ]
  },
  {
   "cell_type": "code",
   "execution_count": null,
   "metadata": {},
   "outputs": [],
   "source": [
    "msk_nsclc_annotated_mutation_cancer_types = [\n",
    "    {**m[0]._Model__dict,\n",
    "    **m[1]}\n",
    "    for m in msk_clinical_data_nsclc_annotations]"
   ]
  },
  {
   "cell_type": "code",
   "execution_count": null,
   "metadata": {},
   "outputs": [],
   "source": [
    "msk_nsclc_annotated_mutation_cancer_types[0]"
   ]
  },
  {
   "cell_type": "code",
   "execution_count": null,
   "metadata": {
    "scrolled": true
   },
   "outputs": [],
   "source": [
    "[nsclc_annotation['highestSensitiveLevel'] for nsclc_annotation in msk_nsclc_annotated_mutation_cancer_types]\n",
    "set([nsclc_annotation['vus'] for nsclc_annotation in msk_nsclc_annotated_mutation_cancer_types])\n",
    "set([nsclc_annotation['oncogenic'] for nsclc_annotation in msk_nsclc_annotated_mutation_cancer_types])\n",
    "set([nsclc_annotation['highestSensitiveLevel'] for nsclc_annotation in msk_nsclc_annotated_mutation_cancer_types])\n"
   ]
  },
  {
   "cell_type": "code",
   "execution_count": null,
   "metadata": {},
   "outputs": [],
   "source": [
    "msk_clinical_data_nsclc_level = dict()\n",
    "for nsclc_annotation in msk_nsclc_annotated_mutation_cancer_types:\n",
    "    if not (nsclc_annotation['highestSensitiveLevel'] is None):\n",
    "        if nsclc_annotation['highestSensitiveLevel'] not in msk_clinical_data_nsclc_level:\n",
    "            msk_clinical_data_nsclc_level[nsclc_annotation['highestSensitiveLevel']] = 1\n",
    "        else:\n",
    "            msk_clinical_data_nsclc_level[nsclc_annotation['highestSensitiveLevel']] += 1\n",
    "    elif (not (nsclc_annotation['vus'] is None)) and nsclc_annotation['vus']:\n",
    "        if 'VUS' not in msk_clinical_data_nsclc_level:\n",
    "            msk_clinical_data_nsclc_level['VUS'] = 1\n",
    "        else:\n",
    "            msk_clinical_data_nsclc_level['VUS'] += 1\n",
    "    elif (nsclc_annotation['oncogenic'] == 'Oncogenic'\n",
    "            or nsclc_annotation['oncogenic'] == 'Likely Oncogenic'\n",
    "            or nsclc_annotation['oncogenic'] == 'Predicted Oncogenic'):\n",
    "        if 'Oncogenic, no level' not in msk_clinical_data_nsclc_level:\n",
    "            msk_clinical_data_nsclc_level['ONCOGENIC'] = 1\n",
    "        else:\n",
    "            msk_clinical_data_nsclc_level['ONCOGENIC'] += 1\n",
    "    elif (nsclc_annotation['oncogenic'] == 'Likely Neutral' or nsclc_annotation['oncogenic'] == 'Inconclusive'):\n",
    "        if 'Other' not in msk_clinical_data_nsclc_level:\n",
    "            msk_clinical_data_nsclc_level['Other'] = 1\n",
    "        else:\n",
    "            msk_clinical_data_nsclc_level['Other'] += 1\n",
    "    elif nsclc_annotation['alleleExist'] is False:\n",
    "        if 'Other' not in msk_clinical_data_nsclc_level:\n",
    "            msk_clinical_data_nsclc_level['Other'] = 1\n",
    "        else:\n",
    "            msk_clinical_data_nsclc_level['Other'] += 1\n",
    "    elif nsclc_annotation['variantExist'] is False:\n",
    "        if 'Other' not in msk_clinical_data_nsclc_level:\n",
    "            msk_clinical_data_nsclc_level['Other'] = 1\n",
    "        else:\n",
    "            msk_clinical_data_nsclc_level['Other'] += 1\n",
    "    elif nsclc_annotation['geneSummary'] == '':\n",
    "        if 'Other' not in msk_clinical_data_nsclc_level:\n",
    "            msk_clinical_data_nsclc_level['Other'] = 1\n",
    "        else:\n",
    "            msk_clinical_data_nsclc_level['Other'] += 1\n",
    "    else:\n",
    "        assert False, print(nsclc_annotation)\n"
   ]
  },
  {
   "cell_type": "code",
   "execution_count": null,
   "metadata": {},
   "outputs": [],
   "source": [
    "msk_clinical_data_nsclc_level"
   ]
  },
  {
   "cell_type": "code",
   "execution_count": null,
   "metadata": {},
   "outputs": [],
   "source": [
    "oncokb_level_colors = {\n",
    "    'LEVEL_1': '#33A02C',\n",
    "    'LEVEL_2': '#1F78B4',\n",
    "    'LEVEL_3A': '#984EA3',\n",
    "    'LEVEL_3B': '#BE98CE',\n",
    "    'LEVEL_4': '#a8a8a8',\n",
    "    'LEVEL_R1': '#EE3424',\n",
    "    'LEVEL_R2': '#F79A92',\n",
    "    'LEVEL_R3': '#FCD6D3',\n",
    "    'ONCOGENIC': '#ffdab9',\n",
    "    'VUS': '#d1d1d1',\n",
    "    'Other': 'grey'\n",
    "}\n",
    "\n",
    "cd_nsclc_level_index = []\n",
    "cd_nsclc_level_colors = []\n",
    "cd_nsclc_level = dict()\n",
    "cd_nsclc_level['Non-Small Cell Lung Cancer'] = []\n",
    "\n",
    "for i in msk_clinical_data_nsclc_level.items():\n",
    "    cd_nsclc_level_colors.append(oncokb_level_colors[i[0]])\n",
    "    cd_nsclc_level_index.append(i[0])\n",
    "    cd_nsclc_level['Non-Small Cell Lung Cancer'].append(i[1])\n",
    "\n",
    "cd_nsclc_df = pandas.DataFrame(cd_nsclc_level, index=cd_nsclc_level_index)\n",
    "cd_nsclc_df.plot.pie(y='Non-Small Cell Lung Cancer', figsize=(2*plot_w, 2*plot_w), colors=cd_nsclc_level_colors)"
   ]
  },
  {
   "cell_type": "code",
   "execution_count": null,
   "metadata": {},
   "outputs": [],
   "source": []
  }
 ],
 "metadata": {
  "kernelspec": {
   "display_name": "Python 3",
   "language": "python",
   "name": "python3"
  },
  "language_info": {
   "codemirror_mode": {
    "name": "ipython",
    "version": 3
   },
   "file_extension": ".py",
   "mimetype": "text/x-python",
   "name": "python",
   "nbconvert_exporter": "python",
   "pygments_lexer": "ipython3",
   "version": "3.7.10"
  }
 },
 "nbformat": 4,
 "nbformat_minor": 2
}
