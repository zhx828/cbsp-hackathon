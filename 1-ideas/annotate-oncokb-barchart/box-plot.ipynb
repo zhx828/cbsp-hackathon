{
 "cells": [
  {
   "cell_type": "markdown",
   "metadata": {},
   "source": [
    "## Annotate `'msk_impact_2017'` study's mutation endpoints from cBioPortal using OncoKB REST API.\n",
    "\n",
    "First import `bravado` and `pandas`.\n",
    "\n",
    "Initialize REST APIs for cBioPortal and OncoKB."
   ]
  },
  {
   "cell_type": "code",
   "execution_count": null,
   "metadata": {},
   "outputs": [],
   "source": [
    "from bravado.client import SwaggerClient\n",
    "from bravado.requests_client import RequestsClient\n",
    "from bravado.swagger_model import load_file, Loader\n",
    "\n",
    "from pprint import pprint\n",
    "from copy import *\n",
    "\n",
    "import matplotlib\n",
    "import pandas\n",
    "\n",
    "%matplotlib inline\n",
    "\n",
    "plot_w, plot_h = matplotlib.rcParams['figure.figsize']\n",
    "\n",
    "cbioportal = SwaggerClient.from_url('https://www.cbioportal.org/api/api-docs',\n",
    "                                config={\"validate_requests\":False,\"validate_responses\":False})\n",
    "\n",
    "# OncoKB swagger is generated separately from the main website, we need to manually change the host to www.oncokb.org \n",
    "oncokb_swagger_url='https://www.oncokb.org/api/v1/v2/api-docs?group=Public%20APIs'\n",
    "http_client = RequestsClient()\n",
    "loader = Loader(http_client)\n",
    "spec_dict = loader.load_spec('https://www.oncokb.org/api/v1/v2/api-docs?group=Public%20APIs')\n",
    "spec_dict['host'] = 'www.oncokb.org'\n",
    "oncokb = SwaggerClient.from_spec(spec_dict,\n",
    "                                config={\"validate_requests\":False,\"validate_responses\":False})"
   ]
  },
  {
   "cell_type": "markdown",
   "metadata": {},
   "source": [
    "### Define method to run oncokb annotation in POST.\n",
    "#### Please ask for the oncokb token if you don't have an account and update `oncokb_token` below"
   ]
  },
  {
   "cell_type": "code",
   "execution_count": null,
   "metadata": {},
   "outputs": [],
   "source": [
    "def make_oncokb_post_request(requests):\n",
    "    oncokb_token=''\n",
    "    oncokb_request_headers = {\n",
    "      'Authorization': 'Bearer {}'.format(oncokb_token)\n",
    "    }\n",
    "\n",
    "    request_options = {\n",
    "        # === bravado config ===\n",
    "        'headers': oncokb_request_headers,\n",
    "    }\n",
    "    return json.loads(oncokb.Annotations.annotateMutationsByProteinChangePostUsingPOST_1(\n",
    "            _request_options=request_options,\n",
    "            body=requests\n",
    "        ).response().result)"
   ]
  },
  {
   "cell_type": "markdown",
   "metadata": {},
   "source": [
    "Define method to process mutations and get annotated"
   ]
  },
  {
   "cell_type": "code",
   "execution_count": null,
   "metadata": {},
   "outputs": [],
   "source": [
    "POST_LENGTH_THRESHOLD=1000\n",
    "def annotate_mutations(mutations):\n",
    "    msk_mutation_annotations = []\n",
    "    requests = []\n",
    "    sub_mutations = []\n",
    "    for idx, m in enumerate(mutations):\n",
    "        QueryGene = oncokb.get_model('QueryGene')\n",
    "        AnnotateMutationByProteinChangeQuery = oncokb.get_model('AnnotateMutationByProteinChangeQuery')\n",
    "        requests.append(\n",
    "            AnnotateMutationByProteinChangeQuery(gene=QueryGene(entrezGeneId=m.entrezGeneId), alteration=m.proteinChange))\n",
    "        sub_mutations.append(m)\n",
    "        if len(requests) == POST_LENGTH_THRESHOLD:\n",
    "            resp = make_oncokb_post_request(requests)\n",
    "            msk_mutation_annotations.extend(zip(sub_mutations, resp))\n",
    "            print('Annotated {}/{} mutations'.format(idx+1, len(mutations)))\n",
    "            requests = []\n",
    "            sub_mutations = []\n",
    "    if (len(requests) > 0):\n",
    "        resp = make_oncokb_post_request(requests)\n",
    "        msk_mutation_annotations.extend(zip(sub_mutations, resp))\n",
    "        requests = []\n",
    "        sub_mutations = []\n",
    "    return msk_mutation_annotations"
   ]
  },
  {
   "cell_type": "markdown",
   "metadata": {},
   "source": [
    "Retrieve all available clinical data in `'msk_impact_2017'` study:"
   ]
  },
  {
   "cell_type": "code",
   "execution_count": null,
   "metadata": {},
   "outputs": [],
   "source": [
    "msk_clinical_data=cbioportal.Clinical_Data.getAllClinicalDataInStudyUsingGET(studyId='msk_impact_2017').result()"
   ]
  },
  {
   "cell_type": "markdown",
   "metadata": {},
   "source": [
    "The clinical data returned from `getAllClinicalDataInStudyUsingGET()` can be inserted into a DataFrame."
   ]
  },
  {
   "cell_type": "code",
   "execution_count": null,
   "metadata": {
    "scrolled": true
   },
   "outputs": [],
   "source": [
    "%%time\n",
    "\n",
    "parsed_clinical_data = dict()\n",
    "for cd in msk_clinical_data:\n",
    "    if cd.uniqueSampleKey not in parsed_clinical_data:\n",
    "        parsed_clinical_data[cd.uniqueSampleKey] = dict()\n",
    "        parsed_clinical_data[cd.uniqueSampleKey]['uniqueSampleKey'] = cd.uniqueSampleKey\n",
    "        parsed_clinical_data[cd.uniqueSampleKey][cd.clinicalAttributeId] = cd.value\n",
    "        parsed_clinical_data[cd.uniqueSampleKey]['patientId'] = cd.patientId\n",
    "        parsed_clinical_data[cd.uniqueSampleKey]['sampleId'] = cd.sampleId\n",
    "        parsed_clinical_data[cd.uniqueSampleKey]['studyId'] = cd.studyId\n",
    "        parsed_clinical_data[cd.uniqueSampleKey]['uniquePatientKey'] = cd.uniquePatientKey\n",
    "    else:\n",
    "        parsed_clinical_data[cd.uniqueSampleKey][cd.clinicalAttributeId] = cd.value\n",
    "\n",
    "cd_df = pandas.DataFrame.from_dict([cd[1] for cd in parsed_clinical_data.items()])"
   ]
  },
  {
   "cell_type": "code",
   "execution_count": null,
   "metadata": {},
   "outputs": [],
   "source": [
    "print(\"number of clinical data endpoints:\", len(parsed_clinical_data))"
   ]
  },
  {
   "cell_type": "markdown",
   "metadata": {},
   "source": [
    "Here, the study samples can be categorized under `'CANCER_TYPE'`."
   ]
  },
  {
   "cell_type": "code",
   "execution_count": null,
   "metadata": {},
   "outputs": [],
   "source": [
    "msk_clinical_data_sorted_cancer_type = cd_df.groupby('CANCER_TYPE')['uniqueSampleKey'].nunique().sort_values(ascending=False)"
   ]
  },
  {
   "cell_type": "markdown",
   "metadata": {},
   "source": [
    "Here is a plot of the studies' samples sorted by `'CANCER_TYPE'`:"
   ]
  },
  {
   "cell_type": "markdown",
   "metadata": {},
   "source": [
    "Obtain mutations for `'msk_impact_2017'`:"
   ]
  },
  {
   "cell_type": "code",
   "execution_count": null,
   "metadata": {},
   "outputs": [],
   "source": [
    "%%time\n",
    "\n",
    "mutations = cbioportal.Mutations.getMutationsInMolecularProfileBySampleListIdUsingGET(\n",
    "    molecularProfileId='msk_impact_2017_mutations',\n",
    "    sampleListId='msk_impact_2017_all',\n",
    "    projection='DETAILED'\n",
    ").result()"
   ]
  },
  {
   "cell_type": "markdown",
   "metadata": {},
   "source": [
    "Combine `'msk_impact_2017'` clinical data endpoints with `'msk_impact_2017'` mutations endpoints."
   ]
  },
  {
   "cell_type": "markdown",
   "metadata": {},
   "source": [
    "Obtain the set of mutation entrez gene IDs (this makes it easier to count the total number of `entrezGeneId`s):"
   ]
  },
  {
   "cell_type": "code",
   "execution_count": null,
   "metadata": {},
   "outputs": [],
   "source": [
    "mutations_entrezGeneId = set()\n",
    "for m in mutations:\n",
    "    mutations_entrezGeneId.add(m.entrezGeneId)\n",
    "\n",
    "print(\"There are {0} `'msk_impact_2017'` mutation entrez gene IDs!\".format(len(mutations_entrezGeneId)))"
   ]
  },
  {
   "cell_type": "markdown",
   "metadata": {},
   "source": [
    "Use gene mutation ID and proteinChange to filter OncoKB's Annotations:"
   ]
  },
  {
   "cell_type": "code",
   "execution_count": null,
   "metadata": {
    "scrolled": true
   },
   "outputs": [],
   "source": [
    "msk_cd_with_mutations = deepcopy(parsed_clinical_data)\n",
    "for m in mutations:\n",
    "    if 'mutations' not in msk_cd_with_mutations[m.uniqueSampleKey]:\n",
    "        msk_cd_with_mutations[m.uniqueSampleKey]['mutations'] = []\n",
    "    msk_cd_with_mutations[m.uniqueSampleKey]['mutations'].append(m)\n",
    "\n",
    "print(\"There are {0} `'msk_impact_2017'` study samples without mutations.\\n\".format(len([kv[1] for kv in msk_cd_with_mutations.items() if ('mutations' not in kv[1])])))\n",
    "print(\"Total number of mutations in `'msk_impact_2017'` study:\", len(mutations))"
   ]
  },
  {
   "cell_type": "markdown",
   "metadata": {},
   "source": [
    "## Requesting annotations for all `'msk_impact_2017'` study mutations (might take ~5 minutes)!"
   ]
  },
  {
   "cell_type": "code",
   "execution_count": null,
   "metadata": {
    "scrolled": true
   },
   "outputs": [],
   "source": [
    "%%time\n",
    "\n",
    "import json\n",
    "\n",
    "msk_mutation_annotations = annotate_mutations(mutations)\n",
    "\n",
    "assert len(msk_mutation_annotations) == len(mutations), \"some annotation requests failed\""
   ]
  },
  {
   "cell_type": "code",
   "execution_count": null,
   "metadata": {},
   "outputs": [],
   "source": [
    "msk_mutation_annotations[0]"
   ]
  },
  {
   "cell_type": "code",
   "execution_count": null,
   "metadata": {
    "scrolled": false
   },
   "outputs": [],
   "source": [
    "msk_annotated_mutation_cancer_types = [\n",
    "    {**{'oncogenic': m[1]['oncogenic'], 'uniquePatientKey': m[0]['uniquePatientKey'],'CANCER_TYPE': parsed_clinical_data[m[0].uniqueSampleKey]['CANCER_TYPE']}}\n",
    "    for m in msk_mutation_annotations]"
   ]
  },
  {
   "cell_type": "code",
   "execution_count": null,
   "metadata": {
    "scrolled": true
   },
   "outputs": [],
   "source": [
    "len(msk_annotated_mutation_cancer_types)"
   ]
  },
  {
   "cell_type": "code",
   "execution_count": null,
   "metadata": {},
   "outputs": [],
   "source": [
    "msk_annotated_mutation_cancer_types[0]"
   ]
  },
  {
   "cell_type": "code",
   "execution_count": null,
   "metadata": {},
   "outputs": [],
   "source": [
    "msk_annotated_mutation_cancer_types_driver=[am for am in msk_annotated_mutation_cancer_types if am['oncogenic'] == 'Oncogenic' or am['oncogenic'] == 'Likely Oncogenic' or am['oncogenic'] == 'Predicted Oncogenic']\n",
    "\n",
    "\n",
    "\n"
   ]
  },
  {
   "cell_type": "code",
   "execution_count": null,
   "metadata": {},
   "outputs": [],
   "source": [
    "len(msk_annotated_mutation_cancer_types_driver)"
   ]
  },
  {
   "cell_type": "code",
   "execution_count": null,
   "metadata": {},
   "outputs": [],
   "source": [
    "msk_annotated_mutation_cancer_types_driver[0]"
   ]
  },
  {
   "cell_type": "code",
   "execution_count": null,
   "metadata": {},
   "outputs": [],
   "source": [
    "df = pandas.DataFrame.from_dict(msk_annotated_mutation_cancer_types_driver)"
   ]
  },
  {
   "cell_type": "code",
   "execution_count": null,
   "metadata": {},
   "outputs": [],
   "source": [
    "result = {}\n",
    "for idx, group in df.groupby([\"CANCER_TYPE\",\"uniquePatientKey\"]):\n",
    "    cancer_type, key = idx\n",
    "    if cancer_type not in result:\n",
    "        result[cancer_type] = []\n",
    "    result[cancer_type].append(len(group))\n",
    "    \n",
    "data = []\n",
    "columns = []\n",
    "for idx, data1 in result.items():\n",
    "    columns.append(idx)\n",
    "    data.append(data1)"
   ]
  },
  {
   "cell_type": "code",
   "execution_count": null,
   "metadata": {},
   "outputs": [],
   "source": [
    "print(data)"
   ]
  },
  {
   "cell_type": "code",
   "execution_count": null,
   "metadata": {},
   "outputs": [],
   "source": [
    "reverted_df = pandas.DataFrame(data).T"
   ]
  },
  {
   "cell_type": "code",
   "execution_count": null,
   "metadata": {},
   "outputs": [],
   "source": [
    "reverted_df.columns=columns"
   ]
  },
  {
   "cell_type": "code",
   "execution_count": null,
   "metadata": {
    "scrolled": true
   },
   "outputs": [],
   "source": [
    "meds = reverted_df.median()"
   ]
  },
  {
   "cell_type": "code",
   "execution_count": null,
   "metadata": {
    "scrolled": true
   },
   "outputs": [],
   "source": [
    "print(meds)"
   ]
  },
  {
   "cell_type": "code",
   "execution_count": null,
   "metadata": {},
   "outputs": [],
   "source": [
    "\n",
    "meds.sort_values(ascending=True, inplace=True)\n",
    "reverted_df = reverted_df[meds.index]"
   ]
  },
  {
   "cell_type": "code",
   "execution_count": null,
   "metadata": {},
   "outputs": [],
   "source": [
    "reverted_df.plot.box(figsize=(20,20), vert=False)"
   ]
  }
 ],
 "metadata": {
  "kernelspec": {
   "display_name": "Python 3",
   "language": "python",
   "name": "python3"
  },
  "language_info": {
   "codemirror_mode": {
    "name": "ipython",
    "version": 3
   },
   "file_extension": ".py",
   "mimetype": "text/x-python",
   "name": "python",
   "nbconvert_exporter": "python",
   "pygments_lexer": "ipython3",
   "version": "3.7.10"
  }
 },
 "nbformat": 4,
 "nbformat_minor": 2
}
