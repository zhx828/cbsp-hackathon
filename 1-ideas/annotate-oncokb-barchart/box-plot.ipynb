{
 "cells": [
  {
   "cell_type": "markdown",
   "metadata": {},
   "source": [
    "## Annotate `'pediatric_dkfz_2017'` study's mutation endpoints from cBioPortal using OncoKB REST API.\n",
    "\n",
    "First import `bravado` and `pandas`.\n",
    "\n",
    "Initialize REST APIs for cBioPortal and OncoKB."
   ]
  },
  {
   "cell_type": "code",
   "execution_count": 1,
   "metadata": {},
   "outputs": [],
   "source": [
    "from bravado.client import SwaggerClient\n",
    "from bravado.requests_client import RequestsClient\n",
    "from bravado.swagger_model import load_file, Loader\n",
    "\n",
    "from pprint import pprint\n",
    "from copy import *\n",
    "\n",
    "import matplotlib\n",
    "import pandas\n",
    "\n",
    "%matplotlib inline\n",
    "\n",
    "plot_w, plot_h = matplotlib.rcParams['figure.figsize']\n",
    "\n",
    "cbioportal = SwaggerClient.from_url('https://www.cbioportal.org/api/api-docs',\n",
    "                                config={\"validate_requests\":False,\"validate_responses\":False})\n",
    "\n",
    "# OncoKB swagger is generated separately from the main website, we need to manually change the host to www.oncokb.org \n",
    "oncokb_swagger_url='https://www.oncokb.org/api/v1/v2/api-docs?group=Public%20APIs'\n",
    "http_client = RequestsClient()\n",
    "loader = Loader(http_client)\n",
    "spec_dict = loader.load_spec('https://www.oncokb.org/api/v1/v2/api-docs?group=Public%20APIs')\n",
    "spec_dict['host'] = 'www.oncokb.org'\n",
    "oncokb = SwaggerClient.from_spec(spec_dict,\n",
    "                                config={\"validate_requests\":False,\"validate_responses\":False})"
   ]
  },
  {
   "cell_type": "markdown",
   "metadata": {},
   "source": [
    "### Define method to run oncokb annotation in POST.\n",
    "#### Please ask for the oncokb token if you don't have an account and update `oncokb_token` below"
   ]
  },
  {
   "cell_type": "code",
   "execution_count": 2,
   "metadata": {},
   "outputs": [],
   "source": [
    "def make_oncokb_post_request(requests):\n",
    "    oncokb_token=''\n",
    "    oncokb_request_headers = {\n",
    "      'Authorization': 'Bearer {}'.format(oncokb_token)\n",
    "    }\n",
    "\n",
    "    request_options = {\n",
    "        # === bravado config ===\n",
    "        'headers': oncokb_request_headers,\n",
    "    }\n",
    "    return json.loads(oncokb.Annotations.annotateMutationsByProteinChangePostUsingPOST_1(\n",
    "            _request_options=request_options,\n",
    "            body=requests\n",
    "        ).response().result)"
   ]
  },
  {
   "cell_type": "markdown",
   "metadata": {},
   "source": [
    "Define method to process mutations and get annotated"
   ]
  },
  {
   "cell_type": "code",
   "execution_count": 3,
   "metadata": {},
   "outputs": [],
   "source": [
    "POST_LENGTH_THRESHOLD=1000\n",
    "def annotate_mutations(mutations):\n",
    "    msk_mutation_annotations = []\n",
    "    requests = []\n",
    "    sub_mutations = []\n",
    "    for idx, m in enumerate(mutations):\n",
    "        QueryGene = oncokb.get_model('QueryGene')\n",
    "        AnnotateMutationByProteinChangeQuery = oncokb.get_model('AnnotateMutationByProteinChangeQuery')\n",
    "        requests.append(\n",
    "            AnnotateMutationByProteinChangeQuery(gene=QueryGene(entrezGeneId=m.entrezGeneId), alteration=m.proteinChange))\n",
    "        sub_mutations.append(m)\n",
    "        if len(requests) == POST_LENGTH_THRESHOLD:\n",
    "            resp = make_oncokb_post_request(requests)\n",
    "            msk_mutation_annotations.extend(zip(sub_mutations, resp))\n",
    "            print('Annotated {}/{} mutations'.format(idx+1, len(mutations)))\n",
    "            requests = []\n",
    "            sub_mutations = []\n",
    "    if (len(requests) > 0):\n",
    "        resp = make_oncokb_post_request(requests)\n",
    "        msk_mutation_annotations.extend(zip(sub_mutations, resp))\n",
    "        requests = []\n",
    "        sub_mutations = []\n",
    "    return msk_mutation_annotations"
   ]
  },
  {
   "cell_type": "markdown",
   "metadata": {},
   "source": [
    "Retrieve all available clinical data in `'pediatric_dkfz_2017'` study:"
   ]
  },
  {
   "cell_type": "code",
   "execution_count": 4,
   "metadata": {},
   "outputs": [],
   "source": [
    "msk_clinical_data=cbioportal.Clinical_Data.getAllClinicalDataInStudyUsingGET(studyId='pediatric_dkfz_2017').result()"
   ]
  },
  {
   "cell_type": "markdown",
   "metadata": {},
   "source": [
    "The clinical data returned from `getAllClinicalDataInStudyUsingGET()` can be inserted into a DataFrame."
   ]
  },
  {
   "cell_type": "code",
   "execution_count": 5,
   "metadata": {
    "scrolled": true
   },
   "outputs": [
    {
     "name": "stdout",
     "output_type": "stream",
     "text": [
      "CPU times: user 99.4 ms, sys: 12.1 ms, total: 111 ms\n",
      "Wall time: 128 ms\n"
     ]
    }
   ],
   "source": [
    "%%time\n",
    "\n",
    "parsed_clinical_data = dict()\n",
    "for cd in msk_clinical_data:\n",
    "    if cd.uniqueSampleKey not in parsed_clinical_data:\n",
    "        parsed_clinical_data[cd.uniqueSampleKey] = dict()\n",
    "        parsed_clinical_data[cd.uniqueSampleKey]['uniqueSampleKey'] = cd.uniqueSampleKey\n",
    "        parsed_clinical_data[cd.uniqueSampleKey][cd.clinicalAttributeId] = cd.value\n",
    "        parsed_clinical_data[cd.uniqueSampleKey]['patientId'] = cd.patientId\n",
    "        parsed_clinical_data[cd.uniqueSampleKey]['sampleId'] = cd.sampleId\n",
    "        parsed_clinical_data[cd.uniqueSampleKey]['studyId'] = cd.studyId\n",
    "        parsed_clinical_data[cd.uniqueSampleKey]['uniquePatientKey'] = cd.uniquePatientKey\n",
    "    else:\n",
    "        parsed_clinical_data[cd.uniqueSampleKey][cd.clinicalAttributeId] = cd.value\n",
    "\n",
    "cd_df = pandas.DataFrame.from_dict([cd[1] for cd in parsed_clinical_data.items()])"
   ]
  },
  {
   "cell_type": "code",
   "execution_count": 6,
   "metadata": {},
   "outputs": [
    {
     "name": "stdout",
     "output_type": "stream",
     "text": [
      "number of clinical data endpoints: 961\n"
     ]
    }
   ],
   "source": [
    "print(\"number of clinical data endpoints:\", len(parsed_clinical_data))"
   ]
  },
  {
   "cell_type": "markdown",
   "metadata": {},
   "source": [
    "Here, the study samples can be categorized under `'CANCER_TYPE'`."
   ]
  },
  {
   "cell_type": "code",
   "execution_count": 7,
   "metadata": {},
   "outputs": [],
   "source": [
    "msk_clinical_data_sorted_cancer_type = cd_df.groupby('CANCER_TYPE')['uniqueSampleKey'].nunique().sort_values(ascending=False)"
   ]
  },
  {
   "cell_type": "markdown",
   "metadata": {},
   "source": [
    "Here is a plot of the studies' samples sorted by `'CANCER_TYPE'`:"
   ]
  },
  {
   "cell_type": "code",
   "execution_count": 8,
   "metadata": {
    "scrolled": false
   },
   "outputs": [
    {
     "data": {
      "text/plain": [
       "<AxesSubplot:xlabel='CANCER_TYPE'>"
      ]
     },
     "execution_count": 8,
     "metadata": {},
     "output_type": "execute_result"
    },
    {
     "name": "stderr",
     "output_type": "stream",
     "text": [
      "/srv/conda/envs/notebook/lib_pypy/_functools.py:80: MatplotlibDeprecationWarning: savefig() got unexpected keyword argument \"orientation\" which is no longer supported as of 3.3 and will become an error two minor releases later\n",
      "  return self._func(*(self._args + fargs), **fkeywords)\n"
     ]
    },
    {
     "data": {
      "image/png": "[encoded data removed]",
      "text/plain": [
       "<Figure size 864x288 with 1 Axes>"
      ]
     },
     "metadata": {
      "needs_background": "light"
     },
     "output_type": "display_data"
    }
   ],
   "source": [
    "msk_clinical_data_sorted_cancer_type.plot(kind='bar', figsize=(2*plot_w, plot_h))"
   ]
  },
  {
   "cell_type": "markdown",
   "metadata": {},
   "source": [
    "Obtain mutations for `'pediatric_dkfz_2017'`:"
   ]
  },
  {
   "cell_type": "code",
   "execution_count": 9,
   "metadata": {},
   "outputs": [
    {
     "name": "stdout",
     "output_type": "stream",
     "text": [
      "CPU times: user 719 ms, sys: 37.7 ms, total: 757 ms\n",
      "Wall time: 1.69 s\n"
     ]
    }
   ],
   "source": [
    "%%time\n",
    "\n",
    "mutations = cbioportal.Mutations.getMutationsInMolecularProfileBySampleListIdUsingGET(\n",
    "    molecularProfileId='pediatric_dkfz_2017_mutations',\n",
    "    sampleListId='pediatric_dkfz_2017_all',\n",
    "    projection='DETAILED'\n",
    ").result()"
   ]
  },
  {
   "cell_type": "markdown",
   "metadata": {},
   "source": [
    "Combine `'pediatric_dkfz_2017'` clinical data endpoints with `'pediatric_dkfz_2017'` mutations endpoints."
   ]
  },
  {
   "cell_type": "markdown",
   "metadata": {},
   "source": [
    "Obtain the set of mutation entrez gene IDs (this makes it easier to count the total number of `entrezGeneId`s):"
   ]
  },
  {
   "cell_type": "code",
   "execution_count": 10,
   "metadata": {},
   "outputs": [
    {
     "name": "stdout",
     "output_type": "stream",
     "text": [
      "There are 7181 `'pediatric_dkfz_2017'` mutation entrez gene IDs!\n"
     ]
    }
   ],
   "source": [
    "mutations_entrezGeneId = set()\n",
    "for m in mutations:\n",
    "    mutations_entrezGeneId.add(m.entrezGeneId)\n",
    "\n",
    "print(\"There are {0} `'pediatric_dkfz_2017'` mutation entrez gene IDs!\".format(len(mutations_entrezGeneId)))"
   ]
  },
  {
   "cell_type": "markdown",
   "metadata": {},
   "source": [
    "Use gene mutation ID and proteinChange to filter OncoKB's Annotations:"
   ]
  },
  {
   "cell_type": "code",
   "execution_count": 11,
   "metadata": {
    "scrolled": true
   },
   "outputs": [
    {
     "name": "stdout",
     "output_type": "stream",
     "text": [
      "There are 111 `'pediatric_dkfz_2017'` study samples without mutations.\n",
      "\n",
      "Total number of mutations in `'pediatric_dkfz_2017'` study: 12127\n"
     ]
    }
   ],
   "source": [
    "msk_cd_with_mutations = deepcopy(parsed_clinical_data)\n",
    "for m in mutations:\n",
    "    if 'mutations' not in msk_cd_with_mutations[m.uniqueSampleKey]:\n",
    "        msk_cd_with_mutations[m.uniqueSampleKey]['mutations'] = []\n",
    "    msk_cd_with_mutations[m.uniqueSampleKey]['mutations'].append(m)\n",
    "\n",
    "print(\"There are {0} `'pediatric_dkfz_2017'` study samples without mutations.\\n\".format(len([kv[1] for kv in msk_cd_with_mutations.items() if ('mutations' not in kv[1])])))\n",
    "print(\"Total number of mutations in `'pediatric_dkfz_2017'` study:\", len(mutations))"
   ]
  },
  {
   "cell_type": "markdown",
   "metadata": {},
   "source": [
    "## Requesting annotations for all `'pediatric_dkfz_2017'` study mutations (might take ~5 minutes)!"
   ]
  },
  {
   "cell_type": "code",
   "execution_count": 12,
   "metadata": {
    "scrolled": true
   },
   "outputs": [
    {
     "name": "stdout",
     "output_type": "stream",
     "text": [
      "Annotated 1000/12127 mutations\n",
      "Annotated 2000/12127 mutations\n",
      "Annotated 3000/12127 mutations\n",
      "Annotated 4000/12127 mutations\n",
      "Annotated 5000/12127 mutations\n",
      "Annotated 6000/12127 mutations\n",
      "Annotated 7000/12127 mutations\n",
      "Annotated 8000/12127 mutations\n",
      "Annotated 9000/12127 mutations\n",
      "Annotated 10000/12127 mutations\n",
      "Annotated 11000/12127 mutations\n",
      "Annotated 12000/12127 mutations\n",
      "CPU times: user 950 ms, sys: 68.1 ms, total: 1.02 s\n",
      "Wall time: 25.2 s\n"
     ]
    }
   ],
   "source": [
    "%%time\n",
    "\n",
    "import json\n",
    "\n",
    "msk_mutation_annotations = annotate_mutations(mutations)\n",
    "\n",
    "assert len(msk_mutation_annotations) == len(mutations), \"some annotation requests failed\""
   ]
  },
  {
   "cell_type": "code",
   "execution_count": 13,
   "metadata": {},
   "outputs": [
    {
     "data": {
      "text/plain": [
       "(Mutation(alleleSpecificCopyNumber=None, aminoAcidChange=None, center='.', chr='12', driverFilter=None, driverFilterAnnotation=None, driverTiersFilter=None, driverTiersFilterAnnotation=None, endPosition=25398284, entrezGeneId=3845, fisValue=1.4013e-45, functionalImpactScore='', gene=Gene(entrezGeneId=3845, geneticEntityId=None, hugoGeneSymbol='KRAS', type='protein-coding'), keyword='KRAS G12 missense', linkMsa='', linkPdb='', linkXvar='', molecularProfileId='pediatric_dkfz_2017_mutations', mutationStatus='NA', mutationType='Missense_Mutation', namespaceColumns=None, ncbiBuild='GRCh37', normalAltCount=None, normalRefCount=None, patientId='ALL-B-2', proteinChange='G12V', proteinPosEnd=12, proteinPosStart=12, referenceAllele='C', refseqMrnaId='NM_033360.2', sampleId='ALL-B-2', startPosition=25398284, studyId='pediatric_dkfz_2017', tumorAltCount=None, tumorRefCount=None, uniquePatientKey='QUxMLUItMjpwZWRpYXRyaWNfZGtmel8yMDE3', uniqueSampleKey='QUxMLUItMjpwZWRpYXRyaWNfZGtmel8yMDE3', validationStatus='Untested', variantAllele='A', variantType='SNP'),\n",
       " {'query': {'id': None,\n",
       "   'referenceGenome': 'GRCh37',\n",
       "   'type': 'regular',\n",
       "   'hugoSymbol': 'KRAS',\n",
       "   'entrezGeneId': 3845,\n",
       "   'alteration': 'G12V',\n",
       "   'alterationType': None,\n",
       "   'svType': None,\n",
       "   'tumorType': None,\n",
       "   'consequence': None,\n",
       "   'proteinStart': None,\n",
       "   'proteinEnd': None,\n",
       "   'hgvs': None},\n",
       "  'geneExist': True,\n",
       "  'variantExist': True,\n",
       "  'alleleExist': True,\n",
       "  'oncogenic': 'Oncogenic',\n",
       "  'mutationEffect': {'knownEffect': 'Gain-of-function',\n",
       "   'description': '',\n",
       "   'citations': {'pmids': ['20516123',\n",
       "     '20949621',\n",
       "     '30341394',\n",
       "     '28572459',\n",
       "     '25359494',\n",
       "     '20570890',\n",
       "     '12957286',\n",
       "     '20147967'],\n",
       "    'abstracts': []}},\n",
       "  'highestSensitiveLevel': 'LEVEL_3A',\n",
       "  'highestResistanceLevel': 'LEVEL_R1',\n",
       "  'highestDiagnosticImplicationLevel': 'LEVEL_Dx2',\n",
       "  'highestPrognosticImplicationLevel': None,\n",
       "  'otherSignificantSensitiveLevels': [],\n",
       "  'otherSignificantResistanceLevels': [],\n",
       "  'hotspot': True,\n",
       "  'geneSummary': 'KRAS, a GTPase which functions as an upstream regulator of the MAPK and PI3K pathways, is frequently mutated in various cancer types including pancreatic, colorectal and lung cancers.',\n",
       "  'variantSummary': 'The KRAS G12V mutation is known to be oncogenic.',\n",
       "  'tumorTypeSummary': '',\n",
       "  'prognosticSummary': '',\n",
       "  'diagnosticSummary': '',\n",
       "  'diagnosticImplications': [{'levelOfEvidence': 'LEVEL_Dx3',\n",
       "    'alterations': ['Oncogenic Mutations'],\n",
       "    'tumorType': {'id': None,\n",
       "     'code': 'ETPLL',\n",
       "     'color': 'LimeGreen',\n",
       "     'name': 'Early T-Cell Precursor Lymphoblastic Leukemia',\n",
       "     'mainType': {'id': None,\n",
       "      'name': 'T-Lymphoblastic Leukemia/Lymphoma',\n",
       "      'tumorForm': 'LIQUID'},\n",
       "     'tissue': 'Lymphoid',\n",
       "     'children': {},\n",
       "     'parent': 'TLL',\n",
       "     'level': 4,\n",
       "     'tumorForm': 'LIQUID'},\n",
       "    'pmids': ['22237106'],\n",
       "    'abstracts': [],\n",
       "    'description': ''},\n",
       "   {'levelOfEvidence': 'LEVEL_Dx2',\n",
       "    'alterations': ['Oncogenic Mutations'],\n",
       "    'tumorType': {'id': None,\n",
       "     'code': 'JMML',\n",
       "     'color': 'LightSalmon',\n",
       "     'name': 'Juvenile Myelomonocytic Leukemia',\n",
       "     'mainType': {'id': None,\n",
       "      'name': 'Myelodysplastic/Myeloproliferative Neoplasms',\n",
       "      'tumorForm': 'LIQUID'},\n",
       "     'tissue': 'Myeloid',\n",
       "     'children': {},\n",
       "     'parent': 'MDS/MPN',\n",
       "     'level': 4,\n",
       "     'tumorForm': 'LIQUID'},\n",
       "    'pmids': ['10049057', '23832011', '25691160', '26457647', '12717436'],\n",
       "    'abstracts': [],\n",
       "    'description': ''},\n",
       "   {'levelOfEvidence': 'LEVEL_Dx2',\n",
       "    'alterations': ['Oncogenic Mutations'],\n",
       "    'tumorType': {'id': None,\n",
       "     'code': 'MDS',\n",
       "     'color': 'LightSalmon',\n",
       "     'name': 'Myelodysplastic Syndromes',\n",
       "     'mainType': {'id': None,\n",
       "      'name': 'Myelodysplastic Syndromes',\n",
       "      'tumorForm': 'LIQUID'},\n",
       "     'tissue': 'Myeloid',\n",
       "     'children': {},\n",
       "     'parent': 'MNM',\n",
       "     'level': 3,\n",
       "     'tumorForm': 'LIQUID'},\n",
       "    'pmids': ['22934674', '23512829'],\n",
       "    'abstracts': [],\n",
       "    'description': ''}],\n",
       "  'prognosticImplications': [],\n",
       "  'treatments': [{'alterations': ['Oncogenic Mutations'],\n",
       "    'drugs': [{'ncitCode': 'C1723',\n",
       "      'drugName': 'Cetuximab',\n",
       "      'uuid': '5fce3074-e420-4c36-9603-2423daf20118',\n",
       "      'synonyms': ['CETUXIMAB',\n",
       "       'Cetuximab Biosimilar CMAB009',\n",
       "       'IMC-C225',\n",
       "       'Chimeric Anti-EGFR Monoclonal Antibody',\n",
       "       'Cetuximab Biosimilar KL 140',\n",
       "       'Cetuximab Biosimilar CDP-1',\n",
       "       'cetuximab',\n",
       "       'Chimeric Monoclonal Antibody C225',\n",
       "       'Cetuximab',\n",
       "       'Chimeric MoAb C225',\n",
       "       'Erbitux']}],\n",
       "    'approvedIndications': [],\n",
       "    'level': 'LEVEL_R1',\n",
       "    'levelAssociatedCancerType': {'id': None,\n",
       "     'code': '',\n",
       "     'color': 'SaddleBrown',\n",
       "     'name': '',\n",
       "     'mainType': {'id': None,\n",
       "      'name': 'Colorectal Cancer',\n",
       "      'tumorForm': 'SOLID'},\n",
       "     'tissue': 'Bowel',\n",
       "     'children': {},\n",
       "     'parent': None,\n",
       "     'level': 0,\n",
       "     'tumorForm': 'SOLID'},\n",
       "    'pmids': ['20921465', '21228335', '20619739', '24024839', '18316791'],\n",
       "    'abstracts': [],\n",
       "    'description': ''},\n",
       "   {'alterations': ['Oncogenic Mutations'],\n",
       "    'drugs': [{'ncitCode': 'C1857',\n",
       "      'drugName': 'Panitumumab',\n",
       "      'uuid': 'd7b1d12a-e942-4801-bb64-916c9bdfaaf3',\n",
       "      'synonyms': ['ABX-EGF, Clone E7.6.3',\n",
       "       'PANITUMUMAB',\n",
       "       'Vectibix',\n",
       "       'Panitumumab',\n",
       "       'MoAb ABX-EGF',\n",
       "       'ABX-EGF',\n",
       "       'ABX-EGF Monoclonal Antibody',\n",
       "       'Monoclonal Antibody ABX-EGF',\n",
       "       'panitumumab']}],\n",
       "    'approvedIndications': [],\n",
       "    'level': 'LEVEL_R1',\n",
       "    'levelAssociatedCancerType': {'id': None,\n",
       "     'code': '',\n",
       "     'color': 'SaddleBrown',\n",
       "     'name': '',\n",
       "     'mainType': {'id': None,\n",
       "      'name': 'Colorectal Cancer',\n",
       "      'tumorForm': 'SOLID'},\n",
       "     'tissue': 'Bowel',\n",
       "     'children': {},\n",
       "     'parent': None,\n",
       "     'level': 0,\n",
       "     'tumorForm': 'SOLID'},\n",
       "    'pmids': ['20921465', '21228335', '20619739', '24024839', '18316791'],\n",
       "    'abstracts': [],\n",
       "    'description': ''},\n",
       "   {'alterations': ['Oncogenic Mutations'],\n",
       "    'drugs': [{'ncitCode': 'C68923',\n",
       "      'drugName': 'Cobimetinib',\n",
       "      'uuid': 'eb357145-3b18-4aca-b75a-5e18dd2bf4f9',\n",
       "      'synonyms': ['COBIMETINIB',\n",
       "       'Cotellic',\n",
       "       'Cobimetinib',\n",
       "       'XL518',\n",
       "       'GDC-0973',\n",
       "       'MEK Inhibitor GDC-0973']}],\n",
       "    'approvedIndications': [],\n",
       "    'level': 'LEVEL_3A',\n",
       "    'levelAssociatedCancerType': {'id': None,\n",
       "     'code': '',\n",
       "     'color': 'LightSalmon',\n",
       "     'name': '',\n",
       "     'mainType': {'id': None, 'name': 'Histiocytosis', 'tumorForm': 'LIQUID'},\n",
       "     'tissue': 'Myeloid',\n",
       "     'children': {},\n",
       "     'parent': None,\n",
       "     'level': 0,\n",
       "     'tumorForm': 'LIQUID'},\n",
       "    'pmids': ['29236635', '30867592'],\n",
       "    'abstracts': [],\n",
       "    'description': ''},\n",
       "   {'alterations': ['Oncogenic Mutations'],\n",
       "    'drugs': [{'ncitCode': 'C77908',\n",
       "      'drugName': 'Trametinib',\n",
       "      'uuid': 'fb2bb01c-c0ec-4641-abf7-87f486075022',\n",
       "      'synonyms': ['JTP-74057',\n",
       "       'MEK Inhibitor GSK1120212',\n",
       "       'N-(3-{3-cyclopropyl-5-[(2-fluoro-4-iodophenyl)amino]-6,8-dimethyl-2,4,7-trioxo-3,4,6,7-tetrahydropyrido[4,3-d]pyrimidin-1(2H)-yl}phenyl)acetamide',\n",
       "       'GSK1120212',\n",
       "       'TRAMETINIB',\n",
       "       'Trametinib']}],\n",
       "    'approvedIndications': [],\n",
       "    'level': 'LEVEL_4',\n",
       "    'levelAssociatedCancerType': {'id': None,\n",
       "     'code': '',\n",
       "     'color': '',\n",
       "     'name': '',\n",
       "     'mainType': {'id': None,\n",
       "      'name': 'All Solid Tumors',\n",
       "      'tumorForm': 'SOLID'},\n",
       "     'tissue': '',\n",
       "     'children': {},\n",
       "     'parent': None,\n",
       "     'level': -1,\n",
       "     'tumorForm': 'SOLID'},\n",
       "    'pmids': ['25435214', '23200175', '24746704', '28783719', '29247021'],\n",
       "    'abstracts': [{'link': 'http://cancerres.aacrjournals.org/content/77/13_Supplement/4973',\n",
       "      'abstract': 'Bhagwat et al. Abstract# 4973, AACR 2017'},\n",
       "     {'link': 'http://cancerres.aacrjournals.org/content/74/19_Supplement/DDT02-03',\n",
       "      'abstract': 'Robarge et al. Abstract# DDT02-03, AACR 2014'},\n",
       "     {'link': 'http://cancerres.aacrjournals.org/content/77/13_Supplement/5168',\n",
       "      'abstract': 'Burrows et al. Abstract# 5168, AACR 2017'}],\n",
       "    'description': ''},\n",
       "   {'alterations': ['Oncogenic Mutations'],\n",
       "    'drugs': [{'ncitCode': 'C68923',\n",
       "      'drugName': 'Cobimetinib',\n",
       "      'uuid': 'eb357145-3b18-4aca-b75a-5e18dd2bf4f9',\n",
       "      'synonyms': ['COBIMETINIB',\n",
       "       'Cotellic',\n",
       "       'Cobimetinib',\n",
       "       'XL518',\n",
       "       'GDC-0973',\n",
       "       'MEK Inhibitor GDC-0973']}],\n",
       "    'approvedIndications': [],\n",
       "    'level': 'LEVEL_4',\n",
       "    'levelAssociatedCancerType': {'id': None,\n",
       "     'code': '',\n",
       "     'color': '',\n",
       "     'name': '',\n",
       "     'mainType': {'id': None,\n",
       "      'name': 'All Solid Tumors',\n",
       "      'tumorForm': 'SOLID'},\n",
       "     'tissue': '',\n",
       "     'children': {},\n",
       "     'parent': None,\n",
       "     'level': -1,\n",
       "     'tumorForm': 'SOLID'},\n",
       "    'pmids': ['25435214', '23200175', '24746704', '28783719', '29247021'],\n",
       "    'abstracts': [{'link': 'http://cancerres.aacrjournals.org/content/77/13_Supplement/4973',\n",
       "      'abstract': 'Bhagwat et al. Abstract# 4973, AACR 2017'},\n",
       "     {'link': 'http://cancerres.aacrjournals.org/content/74/19_Supplement/DDT02-03',\n",
       "      'abstract': 'Robarge et al. Abstract# DDT02-03, AACR 2014'},\n",
       "     {'link': 'http://cancerres.aacrjournals.org/content/77/13_Supplement/5168',\n",
       "      'abstract': 'Burrows et al. Abstract# 5168, AACR 2017'}],\n",
       "    'description': ''},\n",
       "   {'alterations': ['Oncogenic Mutations'],\n",
       "    'drugs': [{'ncitCode': 'C84865',\n",
       "      'drugName': 'Binimetinib',\n",
       "      'uuid': 'feb9f4a3-e374-4c75-8a3b-0f1fbcdbf677',\n",
       "      'synonyms': ['ARRY-438162',\n",
       "       'Mektovi',\n",
       "       'ARRY-162',\n",
       "       'Binimetinib',\n",
       "       'MEK162',\n",
       "       'BINIMETINIB']}],\n",
       "    'approvedIndications': [],\n",
       "    'level': 'LEVEL_4',\n",
       "    'levelAssociatedCancerType': {'id': None,\n",
       "     'code': '',\n",
       "     'color': '',\n",
       "     'name': '',\n",
       "     'mainType': {'id': None,\n",
       "      'name': 'All Solid Tumors',\n",
       "      'tumorForm': 'SOLID'},\n",
       "     'tissue': '',\n",
       "     'children': {},\n",
       "     'parent': None,\n",
       "     'level': -1,\n",
       "     'tumorForm': 'SOLID'},\n",
       "    'pmids': ['25435214', '23200175', '24746704', '28783719', '29247021'],\n",
       "    'abstracts': [{'link': 'http://cancerres.aacrjournals.org/content/77/13_Supplement/4973',\n",
       "      'abstract': 'Bhagwat et al. Abstract# 4973, AACR 2017'},\n",
       "     {'link': 'http://cancerres.aacrjournals.org/content/74/19_Supplement/DDT02-03',\n",
       "      'abstract': 'Robarge et al. Abstract# DDT02-03, AACR 2014'},\n",
       "     {'link': 'http://cancerres.aacrjournals.org/content/77/13_Supplement/5168',\n",
       "      'abstract': 'Burrows et al. Abstract# 5168, AACR 2017'}],\n",
       "    'description': ''}],\n",
       "  'dataVersion': 'v3.4',\n",
       "  'lastUpdate': '11/17/2020',\n",
       "  'vus': False})"
      ]
     },
     "execution_count": 13,
     "metadata": {},
     "output_type": "execute_result"
    }
   ],
   "source": [
    "msk_mutation_annotations[0]"
   ]
  },
  {
   "cell_type": "code",
   "execution_count": 60,
   "metadata": {
    "scrolled": false
   },
   "outputs": [],
   "source": [
    "msk_annotated_mutation_cancer_types = [\n",
    "    {**{'oncogenic': m[1]['oncogenic'], 'uniquePatientKey': m[0]['uniquePatientKey'],'CANCER_TYPE': parsed_clinical_data[m[0].uniqueSampleKey]['CANCER_TYPE']}}\n",
    "    for m in msk_mutation_annotations]"
   ]
  },
  {
   "cell_type": "code",
   "execution_count": 61,
   "metadata": {
    "scrolled": true
   },
   "outputs": [
    {
     "data": {
      "text/plain": [
       "12127"
      ]
     },
     "execution_count": 61,
     "metadata": {},
     "output_type": "execute_result"
    }
   ],
   "source": [
    "len(msk_annotated_mutation_cancer_types)"
   ]
  },
  {
   "cell_type": "code",
   "execution_count": 62,
   "metadata": {},
   "outputs": [
    {
     "data": {
      "text/plain": [
       "{'oncogenic': 'Oncogenic',\n",
       " 'uniquePatientKey': 'QUxMLUItMjpwZWRpYXRyaWNfZGtmel8yMDE3',\n",
       " 'CANCER_TYPE': 'B-Lymphoblastic Leukemia/Lymphoma'}"
      ]
     },
     "execution_count": 62,
     "metadata": {},
     "output_type": "execute_result"
    }
   ],
   "source": [
    "msk_annotated_mutation_cancer_types[0]"
   ]
  },
  {
   "cell_type": "code",
   "execution_count": 63,
   "metadata": {},
   "outputs": [],
   "source": [
    "msk_annotated_mutation_cancer_types_driver=[am for am in msk_annotated_mutation_cancer_types if am['oncogenic'] == 'Oncogenic' or am['oncogenic'] == 'Likely Oncogenic' or am['oncogenic'] == 'Predicted Oncogenic']\n",
    "\n",
    "\n",
    "\n"
   ]
  },
  {
   "cell_type": "code",
   "execution_count": 64,
   "metadata": {},
   "outputs": [
    {
     "data": {
      "text/plain": [
       "654"
      ]
     },
     "execution_count": 64,
     "metadata": {},
     "output_type": "execute_result"
    }
   ],
   "source": [
    "len(msk_annotated_mutation_cancer_types_driver)"
   ]
  },
  {
   "cell_type": "code",
   "execution_count": 65,
   "metadata": {},
   "outputs": [
    {
     "data": {
      "text/plain": [
       "{'oncogenic': 'Oncogenic',\n",
       " 'uniquePatientKey': 'QUxMLUItMjpwZWRpYXRyaWNfZGtmel8yMDE3',\n",
       " 'CANCER_TYPE': 'B-Lymphoblastic Leukemia/Lymphoma'}"
      ]
     },
     "execution_count": 65,
     "metadata": {},
     "output_type": "execute_result"
    }
   ],
   "source": [
    "msk_annotated_mutation_cancer_types_driver[0]"
   ]
  },
  {
   "cell_type": "code",
   "execution_count": 68,
   "metadata": {},
   "outputs": [],
   "source": [
    "df = pandas.DataFrame.from_dict(msk_annotated_mutation_cancer_types_driver)"
   ]
  },
  {
   "cell_type": "code",
   "execution_count": 69,
   "metadata": {},
   "outputs": [],
   "source": [
    "result = {}\n",
    "for idx, group in df.groupby([\"CANCER_TYPE\",\"uniquePatientKey\"]):\n",
    "    cancer_type, key = idx\n",
    "    if cancer_type not in result:\n",
    "        result[cancer_type] = []\n",
    "    result[cancer_type].append(len(group))\n",
    "    \n",
    "data = []\n",
    "columns = []\n",
    "for idx, data1 in result.items():\n",
    "    columns.append(idx)\n",
    "    data.append(data1)"
   ]
  },
  {
   "cell_type": "code",
   "execution_count": 70,
   "metadata": {},
   "outputs": [
    {
     "name": "stdout",
     "output_type": "stream",
     "text": [
      "[[1, 1, 2, 2, 1], [1, 1, 3, 2, 3, 1, 1, 3, 1, 2, 2, 1, 2, 1, 1, 1, 1, 1, 1, 3, 1, 2, 1, 2, 1, 1, 2, 1], [1, 1, 1, 1, 1, 1, 2, 1], [2, 1, 1, 1, 2, 1, 1, 1], [1, 1, 2, 1, 1, 2, 1, 1, 1, 1, 1, 1, 1, 1, 1, 2, 2, 1, 2, 1, 3, 1, 1, 1, 2, 5, 2, 2, 1, 4, 2, 2, 2, 1, 1, 2, 1, 2, 1, 1, 1, 1, 3, 1, 2, 1, 1, 1, 1, 2, 1, 4, 1, 2, 1, 1, 1, 1, 2, 1, 2, 1, 3, 1, 2, 2, 3, 2, 3, 1, 2, 2, 4, 1, 2, 1, 1, 1, 1, 1, 1, 1, 1, 1, 1, 1, 1, 1, 1, 3, 1, 2], [1, 1, 1, 2, 1, 2, 4, 2, 3, 2, 2, 3, 11, 4, 2, 2, 5, 2, 4, 4, 3, 7, 4, 9, 3, 3, 3, 2, 3, 3, 2, 2, 2, 1, 2, 2, 1, 1, 1, 1, 1, 1, 1, 1, 1, 2, 1, 1, 1, 1, 1, 1, 1, 1, 2, 1, 3, 1, 2, 3, 1, 2, 3, 2, 1, 3, 1, 2, 2, 4, 1, 1, 1, 3, 1, 1, 3, 3, 1, 2, 2, 2, 2, 2, 1, 1, 2, 2, 2, 1, 2, 2, 2, 1, 3, 2, 2, 4, 2, 1, 2, 1, 2, 3, 3, 2, 2, 1, 1, 4, 1, 2, 2, 3, 3, 4, 1, 4, 2], [1, 2, 2, 1], [1, 3, 6, 1, 1, 2, 1, 1, 2, 3, 2, 1, 1, 1, 4, 1, 1], [3, 4, 5, 7, 8, 2, 5, 6, 6, 5, 5, 3, 3], [1, 1, 1, 1, 1, 1, 2, 1], [1, 2, 1, 1, 1, 2, 2, 1, 1, 2, 2, 2, 1, 1, 1, 1], [1, 2, 1, 1, 2, 2, 2, 1], [2, 1, 2, 3, 1, 1, 1, 1, 5, 2, 1, 2], [1, 3, 1, 1, 1, 1, 1, 1, 1, 1, 2, 1, 1, 1, 2]]\n"
     ]
    }
   ],
   "source": [
    "print(data)"
   ]
  },
  {
   "cell_type": "code",
   "execution_count": 71,
   "metadata": {},
   "outputs": [],
   "source": [
    "reverted_df = pandas.DataFrame(data).T"
   ]
  },
  {
   "cell_type": "code",
   "execution_count": 72,
   "metadata": {},
   "outputs": [],
   "source": [
    "reverted_df.columns=columns"
   ]
  },
  {
   "cell_type": "code",
   "execution_count": 73,
   "metadata": {
    "scrolled": true
   },
   "outputs": [],
   "source": [
    "meds = reverted_df.median()"
   ]
  },
  {
   "cell_type": "code",
   "execution_count": 74,
   "metadata": {
    "scrolled": true
   },
   "outputs": [
    {
     "name": "stdout",
     "output_type": "stream",
     "text": [
      "Adrenocortical carcinoma             1.0\n",
      "B-Lymphoblastic Leukemia/Lymphoma    1.0\n",
      "Bone                                 1.0\n",
      "Bone Cancer                          1.0\n",
      "Embryonal Tumor                      1.0\n",
      "Glioma                               2.0\n",
      "Hepatobiliary Cancer                 1.5\n",
      "Leukemia                             1.0\n",
      "Non-Hodgkin Lymphoma                 5.0\n",
      "Peripheral Nervous System            1.0\n",
      "Retinoblastoma                       1.0\n",
      "Soft Tissue Sarcoma                  1.5\n",
      "T-Lymphoblastic Leukemia/Lymphoma    1.5\n",
      "Wilms Tumor                          1.0\n",
      "dtype: float64\n"
     ]
    }
   ],
   "source": [
    "print(meds)"
   ]
  },
  {
   "cell_type": "code",
   "execution_count": 75,
   "metadata": {},
   "outputs": [],
   "source": [
    "\n",
    "meds.sort_values(ascending=False, inplace=True)\n",
    "reverted_df = reverted_df[meds.index]"
   ]
  },
  {
   "cell_type": "code",
   "execution_count": 76,
   "metadata": {},
   "outputs": [
    {
     "data": {
      "text/plain": [
       "<AxesSubplot:>"
      ]
     },
     "execution_count": 76,
     "metadata": {},
     "output_type": "execute_result"
    },
    {
     "name": "stderr",
     "output_type": "stream",
     "text": [
      "/srv/conda/envs/notebook/lib_pypy/_functools.py:80: MatplotlibDeprecationWarning: savefig() got unexpected keyword argument \"orientation\" which is no longer supported as of 3.3 and will become an error two minor releases later\n",
      "  return self._func(*(self._args + fargs), **fkeywords)\n"
     ]
    },
    {
     "data": {
      "image/png": "[encoded data removed]",
      "text/plain": [
       "<Figure size 432x288 with 1 Axes>"
      ]
     },
     "metadata": {
      "needs_background": "light"
     },
     "output_type": "display_data"
    }
   ],
   "source": [
    "reverted_df.plot.box(rot=90)"
   ]
  },
  {
   "cell_type": "code",
   "execution_count": 33,
   "metadata": {},
   "outputs": [
    {
     "name": "stdout",
     "output_type": "stream",
     "text": [
      "{'Adrenocortical carcinoma', 'B-Lymphoblastic Leukemia/Lymphoma', 'Bone', 'Bone Cancer', 'Embryonal Tumor', 'Glioma', 'Hepatobiliary Cancer', 'Leukemia', 'Non-Hodgkin Lymphoma', 'Peripheral Nervous System', 'Retinoblastoma', 'Soft Tissue Sarcoma', 'T-Lymphoblastic Leukemia/Lymphoma', 'Wilms Tumor'}\n"
     ]
    }
   ],
   "source": [
    "result = []\n",
    "for idx, group in df.groupby(\"CANCER_TYPE\"):\n",
    "    sample numbers\n",
    "    for idx1, group1 in group.groupby(\"uniquePatientKey\")\n",
    "    \n",
    "    \n",
    "    result.append((idx, len()))\n",
    "#     print(idx)\n",
    "#     print(len(group))\n",
    "#     display(group)\n",
    "#     break\n",
    "print(columns)"
   ]
  },
  {
   "cell_type": "markdown",
   "metadata": {},
   "source": [
    "Filter `'pediatric_dkfz_2017'` study mutations by `'LEVEL_1'`:"
   ]
  },
  {
   "cell_type": "code",
   "execution_count": null,
   "metadata": {},
   "outputs": [],
   "source": [
    "msk_annotated_mutation_cancer_types[0]"
   ]
  },
  {
   "cell_type": "code",
   "execution_count": null,
   "metadata": {
    "scrolled": false
   },
   "outputs": [],
   "source": [
    "msk_annotated_mutation_cancer_types_level_1 = [am for am in msk_annotated_mutation_cancer_types if am['highestSensitiveLevel'] == 'LEVEL_1']\n",
    "annotations_level_1_df = pandas.DataFrame.from_dict(msk_annotated_mutation_cancer_types_level_1)\n",
    "annotations_level_1_df.groupby('CANCER_TYPE')['uniqueSampleKey'].nunique().sort_values(ascending=False).plot(kind='bar', figsize=(2*plot_w, plot_h), color='#33A02C').set_title('LEVEL_1', fontsize=14)"
   ]
  },
  {
   "cell_type": "markdown",
   "metadata": {},
   "source": [
    "Filter `'pediatric_dkfz_2017'` study mutations by `'LEVEL_2'`:"
   ]
  },
  {
   "cell_type": "code",
   "execution_count": null,
   "metadata": {},
   "outputs": [],
   "source": [
    "msk_annotated_mutation_cancer_types_level_2 = [am for am in msk_annotated_mutation_cancer_types if am['highestSensitiveLevel'] == 'LEVEL_2']\n",
    "\n",
    "annotations_level_2_df = pandas.DataFrame.from_dict(msk_annotated_mutation_cancer_types_level_2)\n",
    "if not annotations_level_2_df.empty:\n",
    "    annotations_level_2_df.groupby('CANCER_TYPE')['uniqueSampleKey'].nunique().sort_values(ascending=False).plot(kind='bar', figsize=(2*plot_w, plot_h), color='#1F78B4').set_title('LEVEL_2', fontsize=14)\n"
   ]
  },
  {
   "cell_type": "markdown",
   "metadata": {},
   "source": [
    "Filter `'pediatric_dkfz_2017'` study mutations by `'VUS'`:"
   ]
  },
  {
   "cell_type": "code",
   "execution_count": null,
   "metadata": {},
   "outputs": [],
   "source": [
    "msk_annotated_mutation_cancer_types_vus = [am for am in msk_annotated_mutation_cancer_types if ((not (am['vus'] is None)) and am['vus'])]\n",
    "\n",
    "annotations_vus_df = pandas.DataFrame.from_dict(msk_annotated_mutation_cancer_types_vus)\n",
    "if not annotations_vus_df.empty:\n",
    "    annotations_vus_df.groupby('CANCER_TYPE')['uniqueSampleKey'].nunique().sort_values(ascending=False).plot(kind='bar', figsize=(2*plot_w, plot_h), color='#d1d1d1').set_title('VUS', fontsize=14)\n"
   ]
  },
  {
   "cell_type": "markdown",
   "metadata": {},
   "source": [
    "## Requesting annotations for only `'Non-Small Cell Lung Cancer'` mutations in `'pediatric_dkfz_2017'`."
   ]
  },
  {
   "cell_type": "code",
   "execution_count": null,
   "metadata": {},
   "outputs": [],
   "source": [
    "msk_clinical_data_nsclc = [kv[1] for kv in msk_cd_with_mutations.items() if (kv[1]['CANCER_TYPE'] == 'Non-Small Cell Lung Cancer')]\n",
    "msk_clinical_data_nsclc_set = set()\n",
    "for cd_nsclc in msk_clinical_data_nsclc:\n",
    "    if 'mutations' in cd_nsclc:\n",
    "        for m in cd_nsclc['mutations']:\n",
    "            msk_clinical_data_nsclc_set.add((m.entrezGeneId, m.proteinChange))\n",
    "print(\"Total number of `'Non-Small Cell Lung Cancer'` mutations in `'pediatric_dkfz_2017'` study:\", len(msk_clinical_data_nsclc_set))"
   ]
  },
  {
   "cell_type": "code",
   "execution_count": null,
   "metadata": {},
   "outputs": [],
   "source": [
    "msk_clinical_data_nsclc[0]"
   ]
  },
  {
   "cell_type": "code",
   "execution_count": null,
   "metadata": {},
   "outputs": [],
   "source": [
    "\n",
    "msk_clinical_data_nsclc_dict = []\n",
    "for set_item in msk_clinical_data_nsclc_set:\n",
    "    Mutation = cbioportal.get_model('Mutation')\n",
    "    msk_clinical_data_nsclc_dict.append(Mutation(entrezGeneId=set_item[0], proteinChange=set_item[1]))"
   ]
  },
  {
   "cell_type": "markdown",
   "metadata": {},
   "source": [
    "The requests may take ~1 minute."
   ]
  },
  {
   "cell_type": "code",
   "execution_count": null,
   "metadata": {
    "scrolled": true
   },
   "outputs": [],
   "source": [
    "%%time\n",
    "\n",
    "msk_clinical_data_nsclc_annotations = annotate_mutations(msk_clinical_data_nsclc_dict)\n"
   ]
  },
  {
   "cell_type": "code",
   "execution_count": null,
   "metadata": {
    "scrolled": true
   },
   "outputs": [],
   "source": [
    "msk_clinical_data_nsclc_annotations[0]"
   ]
  },
  {
   "cell_type": "code",
   "execution_count": null,
   "metadata": {},
   "outputs": [],
   "source": [
    "msk_nsclc_annotated_mutation_cancer_types = [\n",
    "    {**m[0]._Model__dict,\n",
    "    **m[1]}\n",
    "    for m in msk_clinical_data_nsclc_annotations]"
   ]
  },
  {
   "cell_type": "code",
   "execution_count": null,
   "metadata": {},
   "outputs": [],
   "source": [
    "msk_nsclc_annotated_mutation_cancer_types[0]"
   ]
  },
  {
   "cell_type": "code",
   "execution_count": null,
   "metadata": {
    "scrolled": true
   },
   "outputs": [],
   "source": [
    "[nsclc_annotation['highestSensitiveLevel'] for nsclc_annotation in msk_nsclc_annotated_mutation_cancer_types]\n",
    "set([nsclc_annotation['vus'] for nsclc_annotation in msk_nsclc_annotated_mutation_cancer_types])\n",
    "set([nsclc_annotation['oncogenic'] for nsclc_annotation in msk_nsclc_annotated_mutation_cancer_types])\n",
    "set([nsclc_annotation['highestSensitiveLevel'] for nsclc_annotation in msk_nsclc_annotated_mutation_cancer_types])\n"
   ]
  },
  {
   "cell_type": "code",
   "execution_count": null,
   "metadata": {},
   "outputs": [],
   "source": [
    "msk_clinical_data_nsclc_level = dict()\n",
    "for nsclc_annotation in msk_nsclc_annotated_mutation_cancer_types:\n",
    "    if not (nsclc_annotation['highestSensitiveLevel'] is None):\n",
    "        if nsclc_annotation['highestSensitiveLevel'] not in msk_clinical_data_nsclc_level:\n",
    "            msk_clinical_data_nsclc_level[nsclc_annotation['highestSensitiveLevel']] = 1\n",
    "        else:\n",
    "            msk_clinical_data_nsclc_level[nsclc_annotation['highestSensitiveLevel']] += 1\n",
    "    elif (not (nsclc_annotation['vus'] is None)) and nsclc_annotation['vus']:\n",
    "        if 'VUS' not in msk_clinical_data_nsclc_level:\n",
    "            msk_clinical_data_nsclc_level['VUS'] = 1\n",
    "        else:\n",
    "            msk_clinical_data_nsclc_level['VUS'] += 1\n",
    "    elif (nsclc_annotation['oncogenic'] == 'Oncogenic'\n",
    "            or nsclc_annotation['oncogenic'] == 'Likely Oncogenic'\n",
    "            or nsclc_annotation['oncogenic'] == 'Predicted Oncogenic'):\n",
    "        if 'Oncogenic, no level' not in msk_clinical_data_nsclc_level:\n",
    "            msk_clinical_data_nsclc_level['ONCOGENIC'] = 1\n",
    "        else:\n",
    "            msk_clinical_data_nsclc_level['ONCOGENIC'] += 1\n",
    "    elif (nsclc_annotation['oncogenic'] == 'Likely Neutral' or nsclc_annotation['oncogenic'] == 'Inconclusive'):\n",
    "        if 'Other' not in msk_clinical_data_nsclc_level:\n",
    "            msk_clinical_data_nsclc_level['Other'] = 1\n",
    "        else:\n",
    "            msk_clinical_data_nsclc_level['Other'] += 1\n",
    "    elif nsclc_annotation['alleleExist'] is False:\n",
    "        if 'Other' not in msk_clinical_data_nsclc_level:\n",
    "            msk_clinical_data_nsclc_level['Other'] = 1\n",
    "        else:\n",
    "            msk_clinical_data_nsclc_level['Other'] += 1\n",
    "    elif nsclc_annotation['variantExist'] is False:\n",
    "        if 'Other' not in msk_clinical_data_nsclc_level:\n",
    "            msk_clinical_data_nsclc_level['Other'] = 1\n",
    "        else:\n",
    "            msk_clinical_data_nsclc_level['Other'] += 1\n",
    "    elif nsclc_annotation['geneSummary'] == '':\n",
    "        if 'Other' not in msk_clinical_data_nsclc_level:\n",
    "            msk_clinical_data_nsclc_level['Other'] = 1\n",
    "        else:\n",
    "            msk_clinical_data_nsclc_level['Other'] += 1\n",
    "    else:\n",
    "        assert False, print(nsclc_annotation)\n"
   ]
  },
  {
   "cell_type": "code",
   "execution_count": null,
   "metadata": {},
   "outputs": [],
   "source": [
    "msk_clinical_data_nsclc_level"
   ]
  },
  {
   "cell_type": "code",
   "execution_count": null,
   "metadata": {},
   "outputs": [],
   "source": [
    "oncokb_level_colors = {\n",
    "    'LEVEL_1': '#33A02C',\n",
    "    'LEVEL_2': '#1F78B4',\n",
    "    'LEVEL_3A': '#984EA3',\n",
    "    'LEVEL_3B': '#BE98CE',\n",
    "    'LEVEL_4': '#a8a8a8',\n",
    "    'LEVEL_R1': '#EE3424',\n",
    "    'LEVEL_R2': '#F79A92',\n",
    "    'LEVEL_R3': '#FCD6D3',\n",
    "    'ONCOGENIC': '#ffdab9',\n",
    "    'VUS': '#d1d1d1',\n",
    "    'Other': 'grey'\n",
    "}\n",
    "\n",
    "cd_nsclc_level_index = []\n",
    "cd_nsclc_level_colors = []\n",
    "cd_nsclc_level = dict()\n",
    "cd_nsclc_level['Non-Small Cell Lung Cancer'] = []\n",
    "\n",
    "for i in msk_clinical_data_nsclc_level.items():\n",
    "    cd_nsclc_level_colors.append(oncokb_level_colors[i[0]])\n",
    "    cd_nsclc_level_index.append(i[0])\n",
    "    cd_nsclc_level['Non-Small Cell Lung Cancer'].append(i[1])\n",
    "\n",
    "cd_nsclc_df = pandas.DataFrame(cd_nsclc_level, index=cd_nsclc_level_index)\n",
    "cd_nsclc_df.plot.pie(y='Non-Small Cell Lung Cancer', figsize=(2*plot_w, 2*plot_w), colors=cd_nsclc_level_colors)"
   ]
  },
  {
   "cell_type": "code",
   "execution_count": null,
   "metadata": {},
   "outputs": [],
   "source": []
  }
 ],
 "metadata": {
  "kernelspec": {
   "display_name": "Python 3",
   "language": "python",
   "name": "python3"
  },
  "language_info": {
   "codemirror_mode": {
    "name": "ipython",
    "version": 3
   },
   "file_extension": ".py",
   "mimetype": "text/x-python",
   "name": "python",
   "nbconvert_exporter": "python",
   "pygments_lexer": "ipython3",
   "version": "3.7.10"
  }
 },
 "nbformat": 4,
 "nbformat_minor": 2
}
